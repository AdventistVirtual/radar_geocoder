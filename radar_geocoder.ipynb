{
 "cells": [
  {
   "cell_type": "code",
   "execution_count": null,
   "metadata": {},
   "outputs": [],
   "source": [
    "import pandas as pd\n",
    "from radar import RadarClient\n",
    "\n",
    "def geocode_address_list(address_list, SECRET_KEY):\n",
    "    radar = RadarClient(SECRET_KEY)\n",
    "    geocoded_data = []\n",
    "    for address in address_list:\n",
    "        address = radar.geocode.forward(query=address)[0]\n",
    "        data = {\n",
    "            \"addressLabel\": address.addressLabel,\n",
    "            \"city\": address.city,\n",
    "            \"confidence\": address.confidence,\n",
    "            \"country\": address.country,\n",
    "            \"countryCode\": address.countryCode,\n",
    "            \"countryFlag\": address.countryFlag,\n",
    "            \"county\": address.county,\n",
    "            \"distance\": address.distance,\n",
    "            \"formattedAddress\": address.formattedAddress,\n",
    "            \"geometryType\": address.geometry['type'],\n",
    "            \"layer\": address.layer,\n",
    "            \"latitude\": address.latitude,\n",
    "            \"longitude\": address.longitude,\n",
    "            \"number\": address.number,\n",
    "            \"postalCode\": address.postalCode,\n",
    "            \"state\": address.state,\n",
    "            \"stateCode\": address.stateCode,\n",
    "            \"street\": address.street\n",
    "        }\n",
    "        geocoded_data.append(data)\n",
    "    geocoded_df = pd.DataFrame(geocoded_data)\n",
    "    return geocoded_df"
   ]
  },
  {
   "cell_type": "code",
   "execution_count": null,
   "metadata": {},
   "outputs": [],
   "source": [
    "SECRET_KEY = \"Your_Secret_Kery_Here\"\n",
    "\n",
    "address_list = [\"5 Verti Drive, Waterville, Maine, 04901\", \"123 Main St, Anytown, California, 12345\"]\n",
    "\n",
    "geocoded_df = geocode_address_list(address_list, SECRET_KEY)\n",
    "\n",
    "geocoded_df"
   ]
  }
 ],
 "metadata": {
  "kernelspec": {
   "display_name": "Python 3",
   "language": "python",
   "name": "python3"
  },
  "language_info": {
   "codemirror_mode": {
    "name": "ipython",
    "version": 3
   },
   "file_extension": ".py",
   "mimetype": "text/x-python",
   "name": "python",
   "nbconvert_exporter": "python",
   "pygments_lexer": "ipython3",
   "version": "3.11.2"
  },
  "orig_nbformat": 4
 },
 "nbformat": 4,
 "nbformat_minor": 2
}
